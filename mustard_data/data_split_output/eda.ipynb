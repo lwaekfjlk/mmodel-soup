{
 "cells": [
  {
   "cell_type": "code",
   "execution_count": 1,
   "metadata": {},
   "outputs": [],
   "source": [
    "import json\n",
    "\n",
    "with open(\"mustard_AS_dataset_train_cogvlm2_qwen2.json\", \"r\") as f:\n",
    "    new_AS_train = json.load(f)\n",
    "with open(\"mustard_AS_dataset_test_cogvlm2_qwen2.json\", \"r\") as f:\n",
    "    new_AS_test = json.load(f)\n",
    "\n",
    "with open(\"mustard_R_dataset_train_cogvlm2_qwen2.json\", \"r\") as f:\n",
    "    new_R_train = json.load(f)\n",
    "with open(\"mustard_R_dataset_test_cogvlm2_qwen2.json\", \"r\") as f:\n",
    "    new_R_test = json.load(f)\n",
    "\n",
    "with open(\"mustard_U_dataset_train_cogvlm2_qwen2.json\", \"r\") as f:\n",
    "    new_U_train = json.load(f)\n",
    "with open(\"mustard_U_dataset_test_cogvlm2_qwen2.json\", \"r\") as f:\n",
    "    new_U_test = json.load(f)"
   ]
  },
  {
   "cell_type": "code",
   "execution_count": 2,
   "metadata": {},
   "outputs": [],
   "source": [
    "with open(\"mustard_AS_dataset_train.json\", \"r\") as f:\n",
    "    old_AS_train = json.load(f)\n",
    "with open(\"mustard_AS_dataset_test.json\", \"r\") as f:\n",
    "    old_AS_test = json.load(f)\n",
    "\n",
    "with open(\"mustard_R_dataset_train.json\", \"r\") as f:\n",
    "    old_R_train = json.load(f)\n",
    "with open(\"mustard_R_dataset_test.json\", \"r\") as f:\n",
    "    old_R_test = json.load(f)\n",
    "\n",
    "with open(\"mustard_U_dataset_train.json\", \"r\") as f:\n",
    "    old_U_train = json.load(f)\n",
    "with open(\"mustard_U_dataset_test.json\", \"r\") as f:\n",
    "    old_U_test = json.load(f)"
   ]
  },
  {
   "cell_type": "code",
   "execution_count": 9,
   "metadata": {},
   "outputs": [
    {
     "name": "stdout",
     "output_type": "stream",
     "text": [
      "length of old AS train:  90\n",
      "length of new AS train:  43\n",
      "length of old AS test:  34\n",
      "length of new AS test:  47\n",
      "length of old R train:  57\n",
      "length of new R train:  101\n",
      "length of old R test:  213\n",
      "length of new R test:  141\n",
      "length of old U train:  145\n",
      "length of new U train:  190\n",
      "length of old U test:  109\n",
      "length of new U test:  168\n",
      "sum of old train:  292\n",
      "sum of new train:  334\n",
      "sum of old test:  356\n",
      "sum of new test:  356\n"
     ]
    }
   ],
   "source": [
    "old_AS_train_ids = set([x for x in old_AS_train])\n",
    "old_AS_test_ids = set([x for x in old_AS_test])\n",
    "old_R_train_ids = set([x for x in old_R_train])\n",
    "old_R_test_ids = set([x for x in old_R_test])\n",
    "old_U_train_ids = set([x for x in old_U_train])\n",
    "old_U_test_ids = set([x for x in old_U_test])\n",
    "\n",
    "new_AS_train_ids = set([x for x in new_AS_train])\n",
    "new_AS_test_ids = set([x for x in new_AS_test])\n",
    "new_R_train_ids = set([x for x in new_R_train])\n",
    "new_R_test_ids = set([x for x in new_R_test])\n",
    "new_U_train_ids = set([x for x in new_U_train])\n",
    "new_U_test_ids = set([x for x in new_U_test])\n",
    "\n",
    "assert len(old_AS_train_ids) == len(old_AS_train)\n",
    "assert len(old_AS_test_ids) == len(old_AS_test)\n",
    "assert len(old_R_train_ids) == len(old_R_train)\n",
    "assert len(old_R_test_ids) == len(old_R_test)\n",
    "assert len(old_U_train_ids) == len(old_U_train)\n",
    "assert len(old_U_test_ids) == len(old_U_test)\n",
    "\n",
    "assert len(new_AS_train_ids) == len(new_AS_train)\n",
    "assert len(new_AS_test_ids) == len(new_AS_test)\n",
    "assert len(new_R_train_ids) == len(new_R_train)\n",
    "assert len(new_R_test_ids) == len(new_R_test)\n",
    "assert len(new_U_train_ids) == len(new_U_train)\n",
    "assert len(new_U_test_ids) == len(new_U_test)\n",
    "\n",
    "\n",
    "print(\"length of old AS train: \", len(old_AS_train_ids))\n",
    "print(\"length of new AS train: \", len(new_AS_train_ids))\n",
    "print(\"length of old AS test: \", len(old_AS_test_ids))\n",
    "print(\"length of new AS test: \", len(new_AS_test_ids))\n",
    "\n",
    "print(\"length of old R train: \", len(old_R_train_ids))\n",
    "print(\"length of new R train: \", len(new_R_train_ids))\n",
    "print(\"length of old R test: \", len(old_R_test_ids))\n",
    "print(\"length of new R test: \", len(new_R_test_ids))\n",
    "\n",
    "print(\"length of old U train: \", len(old_U_train_ids))\n",
    "print(\"length of new U train: \", len(new_U_train_ids))\n",
    "print(\"length of old U test: \", len(old_U_test_ids))\n",
    "print(\"length of new U test: \", len(new_U_test_ids))\n",
    "\n",
    "print(\"sum of old train: \", len(old_AS_train_ids) + len(old_R_train_ids) + len(old_U_train_ids))\n",
    "print(\"sum of new train: \", len(new_AS_train_ids) + len(new_R_train_ids) + len(new_U_train_ids))\n",
    "print(\"sum of old test: \", len(old_AS_test_ids) + len(old_R_test_ids) + len(old_U_test_ids))\n",
    "print(\"sum of new test: \", len(new_AS_test_ids) + len(new_R_test_ids) + len(new_U_test_ids))"
   ]
  },
  {
   "cell_type": "code",
   "execution_count": 10,
   "metadata": {},
   "outputs": [
    {
     "name": "stdout",
     "output_type": "stream",
     "text": [
      "AS train overlap with old split: 11/90\n",
      "AS test overlap with old split: 13/34\n",
      "R train overlap with old split: 13/57\n",
      "R test overlap with old split: 107/213\n",
      "U train overlap with old split: 78/145\n",
      "U test overlap with old split: 62/109\n"
     ]
    }
   ],
   "source": [
    "# calculate the number of overlaps between the old and new datasets\n",
    "AS_train_overlap = old_AS_train_ids.intersection(new_AS_train_ids)\n",
    "print(\"AS train overlap with old split: {}/{}\".format(len(AS_train_overlap), len(old_AS_train_ids)))\n",
    "AS_test_overlap = old_AS_test_ids.intersection(new_AS_test_ids)\n",
    "print(\"AS test overlap with old split: {}/{}\".format(len(AS_test_overlap), len(old_AS_test_ids)))\n",
    "R_train_overlap = old_R_train_ids.intersection(new_R_train_ids)\n",
    "print(\"R train overlap with old split: {}/{}\".format(len(R_train_overlap), len(old_R_train_ids)))\n",
    "R_test_overlap = old_R_test_ids.intersection(new_R_test_ids)\n",
    "print(\"R test overlap with old split: {}/{}\".format(len(R_test_overlap), len(old_R_test_ids)))\n",
    "U_train_overlap = old_U_train_ids.intersection(new_U_train_ids)\n",
    "print(\"U train overlap with old split: {}/{}\".format(len(U_train_overlap), len(old_U_train_ids)))\n",
    "U_test_overlap = old_U_test_ids.intersection(new_U_test_ids)\n",
    "print(\"U test overlap with old split: {}/{}\".format(len(U_test_overlap), len(old_U_test_ids)))"
   ]
  }
 ],
 "metadata": {
  "kernelspec": {
   "display_name": "base",
   "language": "python",
   "name": "python3"
  },
  "language_info": {
   "codemirror_mode": {
    "name": "ipython",
    "version": 3
   },
   "file_extension": ".py",
   "mimetype": "text/x-python",
   "name": "python",
   "nbconvert_exporter": "python",
   "pygments_lexer": "ipython3",
   "version": "3.11.5"
  }
 },
 "nbformat": 4,
 "nbformat_minor": 2
}
