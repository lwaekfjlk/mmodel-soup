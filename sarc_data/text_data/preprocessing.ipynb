{
 "cells": [
  {
   "cell_type": "code",
   "execution_count": 2,
   "metadata": {},
   "outputs": [],
   "source": [
    "import ast\n",
    "import os"
   ]
  },
  {
   "cell_type": "code",
   "execution_count": 2,
   "metadata": {},
   "outputs": [],
   "source": [
    "with open(\"train.txt\", 'r') as f:\n",
    "    input_str = f.read()\n",
    "    lines = [line.strip() for line in input_str.strip().split('\\n') if line.strip()]\n",
    "    # Convert each line from a string representation of a list to an actual list\n",
    "    lists = [ast.literal_eval(line) for line in lines]"
   ]
  },
  {
   "cell_type": "code",
   "execution_count": 3,
   "metadata": {},
   "outputs": [
    {
     "name": "stdout",
     "output_type": "stream",
     "text": [
      "2409\n"
     ]
    }
   ],
   "source": [
    "print(len(lists))"
   ]
  },
  {
   "cell_type": "code",
   "execution_count": 4,
   "metadata": {},
   "outputs": [
    {
     "name": "stdout",
     "output_type": "stream",
     "text": [
      "0\n"
     ]
    }
   ],
   "source": [
    "image_root = \"../image_data\"\n",
    "count = 0\n",
    "for image_id, _, _, _ in lists:\n",
    "    if not os.path.exists(os.path.join(image_root,'%s.jpg'%image_id)):\n",
    "        count += 1\n",
    "print(count)"
   ]
  },
  {
   "cell_type": "code",
   "execution_count": 5,
   "metadata": {},
   "outputs": [
    {
     "name": "stdout",
     "output_type": "stream",
     "text": [
      "19816\n"
     ]
    }
   ],
   "source": [
    "with open(\"train.txt\", 'r') as f:\n",
    "    input_str = f.read()\n",
    "    lines = [line.strip() for line in input_str.strip().split('\\n') if line.strip()]\n",
    "    lists = [ast.literal_eval(line) for line in lines]\n",
    "    \n",
    "image_root = \"../image_data\"\n",
    "new_lists = []\n",
    "for image_id, sentence, label in lists:\n",
    "    if os.path.exists(os.path.join(image_root,'%s.jpg'%image_id)):\n",
    "        new_lists.append([image_id, sentence, label])\n",
    "print(len(new_lists))\n",
    "\n",
    "with open(\"train_filtered.txt\", 'w') as f:\n",
    "    for line in new_lists:\n",
    "        f.write(str(line) + '\\n')\n"
   ]
  },
  {
   "cell_type": "code",
   "execution_count": null,
   "metadata": {},
   "outputs": [
    {
     "ename": "",
     "evalue": "",
     "output_type": "error",
     "traceback": [
      "\u001b[1;31mRunning cells with 'cogvlm' requires the ipykernel package.\n",
      "\u001b[1;31mRun the following command to install 'ipykernel' into the Python environment. \n",
      "\u001b[1;31mCommand: 'conda install -n cogvlm ipykernel --update-deps --force-reinstall'"
     ]
    }
   ],
   "source": [
    "with open(\"test.txt\", 'r') as f:\n",
    "    input_str = f.read()\n",
    "    lines = [line.strip() for line in input_str.strip().split('\\n') if line.strip()]\n",
    "    lists = [ast.literal_eval(line) for line in lines]\n",
    "    \n",
    "image_root = \"../image_data\"\n",
    "new_lists = []\n",
    "for image_id, sentence, label in lists:\n",
    "    if os.path.exists(os.path.join(image_root,'%s.jpg'%image_id)):\n",
    "        new_lists.append([image_id, sentence, label])\n",
    "print(len(new_lists))\n",
    "\n",
    "with open(\"test_filtered.txt\", 'w') as f:\n",
    "    for line in new_lists:\n",
    "        f.write(str(line) + '\\n')"
   ]
  },
  {
   "cell_type": "code",
   "execution_count": 6,
   "metadata": {},
   "outputs": [],
   "source": [
    "with open(\"valid.txt\", 'r') as f:\n",
    "    input_str = f.read()\n",
    "    lines = [line.strip() for line in input_str.strip().split('\\n') if line.strip()]\n",
    "    lists = [ast.literal_eval(line) for line in lines]"
   ]
  },
  {
   "cell_type": "code",
   "execution_count": 7,
   "metadata": {},
   "outputs": [
    {
     "name": "stdout",
     "output_type": "stream",
     "text": [
      "1410 1000\n"
     ]
    }
   ],
   "source": [
    "count_0 = 0\n",
    "count_1 = 0\n",
    "\n",
    "for image_id, sentence, label, _ in lists:\n",
    "    if label == 0:\n",
    "        count_0 += 1\n",
    "    else:\n",
    "        count_1 += 1\n",
    "\n",
    "print(count_0, count_1)"
   ]
  }
 ],
 "metadata": {
  "kernelspec": {
   "display_name": "albef",
   "language": "python",
   "name": "python3"
  },
  "language_info": {
   "codemirror_mode": {
    "name": "ipython",
    "version": 3
   },
   "file_extension": ".py",
   "mimetype": "text/x-python",
   "name": "python",
   "nbconvert_exporter": "python",
   "pygments_lexer": "ipython3",
   "version": "3.10.4"
  }
 },
 "nbformat": 4,
 "nbformat_minor": 2
}
