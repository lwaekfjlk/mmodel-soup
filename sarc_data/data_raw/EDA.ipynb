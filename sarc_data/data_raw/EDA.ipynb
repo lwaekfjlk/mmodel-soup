{
 "cells": [
  {
   "cell_type": "code",
   "execution_count": 1,
   "metadata": {},
   "outputs": [],
   "source": [
    "import os\n",
    "\n",
    "data = []\n",
    "with open('train_filtered.txt') as f:\n",
    "    lines = f.read().splitlines()\n",
    "    data += lines\n",
    "with open('valid_filtered.txt') as f:\n",
    "    lines = f.read().splitlines()\n",
    "    data += lines\n",
    "with open('test_filtered.txt') as f:\n",
    "    lines = f.read().splitlines()\n",
    "    data += lines\n",
    "\n",
    "# read literal string like this \"['840006160660983809', '<user> thanks for showing up for our appointment today . ', 1]\" into list\n",
    "data = [eval(x) for x in data]"
   ]
  },
  {
   "cell_type": "code",
   "execution_count": 2,
   "metadata": {},
   "outputs": [
    {
     "name": "stdout",
     "output_type": "stream",
     "text": [
      "24635\n"
     ]
    },
    {
     "data": {
      "text/plain": [
       "['840006160660983809',\n",
       " '<user> thanks for showing up for our appointment today . ',\n",
       " 1]"
      ]
     },
     "execution_count": 2,
     "metadata": {},
     "output_type": "execute_result"
    }
   ],
   "source": [
    "print(len(data))\n",
    "data[0]"
   ]
  },
  {
   "cell_type": "code",
   "execution_count": 3,
   "metadata": {},
   "outputs": [],
   "source": [
    "import json\n",
    "with open('../data_gen_output/sarc_image_description.jsonl', 'r') as f:\n",
    "    image_descriptions = [json.loads(x) for x in f.read().splitlines()]"
   ]
  },
  {
   "cell_type": "code",
   "execution_count": 4,
   "metadata": {},
   "outputs": [
    {
     "name": "stdout",
     "output_type": "stream",
     "text": [
      "{'image_id': '682716753374351360.jpg', 'description': \"The image showcases a group of people clinking champagne glasses in a celebratory manner. The background is slightly blurred, emphasizing the people and the glasses. There are multiple champagne glasses filled with a golden liquid, which appears to be champagne. The text overlay on the image reads, 'AVOID A NEW YEAR'S DAY HANGOVER WITH THIS ONE WEIRD TRICK: DRINK YOURSELF TO DEATH'. The overall mood of the image is jovial, but the underlying message is humorous and sarcastic, suggesting that excessive drinking can lead to negative consequences.\"}\n",
      "34182\n",
      "682716753374351360\n",
      "24635\n"
     ]
    }
   ],
   "source": [
    "print(image_descriptions[0])\n",
    "all_ids = [x['image_id'][0:-4] for x in image_descriptions]\n",
    "print(len(all_ids))\n",
    "print(all_ids[0])\n",
    "\n",
    "all_ids = set(all_ids)\n",
    "print(len(all_ids))"
   ]
  },
  {
   "cell_type": "code",
   "execution_count": 6,
   "metadata": {},
   "outputs": [],
   "source": [
    "visited = set()\n",
    "dedupe_image_descriptions = []\n",
    "for image_description in image_descriptions:\n",
    "    if not image_description['image_id'] in visited:\n",
    "        dedupe_image_descriptions.append(image_description)\n",
    "        visited.add(image_description['image_id'])"
   ]
  },
  {
   "cell_type": "code",
   "execution_count": 9,
   "metadata": {},
   "outputs": [
    {
     "name": "stdout",
     "output_type": "stream",
     "text": [
      "24635\n"
     ]
    }
   ],
   "source": [
    "len(dedupe_image_descriptions)\n",
    "print(len(all_ids))"
   ]
  },
  {
   "cell_type": "code",
   "execution_count": 11,
   "metadata": {},
   "outputs": [],
   "source": [
    "with open('../data_gen_output/sarc_image_description.jsonl', 'w') as f:\n",
    "    for image_description in dedupe_image_descriptions:\n",
    "        f.write(json.dumps(image_description) + '\\n')"
   ]
  },
  {
   "cell_type": "code",
   "execution_count": 5,
   "metadata": {},
   "outputs": [
    {
     "data": {
      "text/plain": [
       "0"
      ]
     },
     "execution_count": 5,
     "metadata": {},
     "output_type": "execute_result"
    }
   ],
   "source": [
    "count = 0\n",
    "for image_id, text, label in data:\n",
    "    if not image_id in all_ids:\n",
    "        count += 1\n",
    "count"
   ]
  },
  {
   "cell_type": "code",
   "execution_count": 46,
   "metadata": {},
   "outputs": [
    {
     "name": "stdout",
     "output_type": "stream",
     "text": [
      "24635\n",
      "812798716029435904.jpg\n"
     ]
    }
   ],
   "source": [
    "data_dir = \"/home/zqi2/mmodel-soup/sarc_data/data_raw/dataset_image\"\n",
    "# list all files in the directory ending with .jpg\n",
    "all_files = [x for x in os.listdir(data_dir) if x.endswith('.jpg')]\n",
    "print(len(all_files))\n",
    "print(all_files[0])"
   ]
  },
  {
   "cell_type": "code",
   "execution_count": 47,
   "metadata": {},
   "outputs": [
    {
     "data": {
      "text/plain": [
       "0"
      ]
     },
     "execution_count": 47,
     "metadata": {},
     "output_type": "execute_result"
    }
   ],
   "source": [
    "count = 0\n",
    "for image_id, text, label in data:\n",
    "    if not image_id + '.jpg' in all_files:\n",
    "        count += 1\n",
    "count"
   ]
  }
 ],
 "metadata": {
  "kernelspec": {
   "display_name": "cogvlm",
   "language": "python",
   "name": "python3"
  },
  "language_info": {
   "codemirror_mode": {
    "name": "ipython",
    "version": 3
   },
   "file_extension": ".py",
   "mimetype": "text/x-python",
   "name": "python",
   "nbconvert_exporter": "python",
   "pygments_lexer": "ipython3",
   "version": "3.9.19"
  }
 },
 "nbformat": 4,
 "nbformat_minor": 2
}
