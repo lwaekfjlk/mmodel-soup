{
 "cells": [
  {
   "cell_type": "code",
   "execution_count": null,
   "metadata": {},
   "outputs": [],
   "source": [
    "import json\n",
    "import os\n",
    "from PIL import Image\n",
    "import matplotlib.pyplot as plt\n",
    "\n",
    "def visualize(image_dir, image_id, text, vision_text_label, gth_label, text_label, image_label):\n",
    "    print(\"Image ID: \", image_id)\n",
    "    print(\"Text: \", text)\n",
    "    print(\"Prediction: \", vision_text_label)\n",
    "    print(\"Label: \", gth_label)\n",
    "    print(\"Text Label: \", text_label)\n",
    "    print(\"Image Label: \", image_label)\n",
    "    image_path = os.path.join(image_dir, f\"{image_id}.jpg\")\n",
    "    img = Image.open(image_path)\n",
    "\n",
    "    plt.clf()\n",
    "    plt.imshow(img)\n",
    "    plt.axis('off')\n",
    "    plt.show()\n",
    "    return"
   ]
  },
  {
   "cell_type": "code",
   "execution_count": null,
   "metadata": {},
   "outputs": [],
   "source": [
    "import json\n",
    "import ast\n",
    "\n",
    "text_label_dict = {}\n",
    "vision_label_dict = {}\n",
    "\n",
    "with open(\"./data_gen_output/sarc_text_only_pred.json\", 'r') as f:\n",
    "    text_label_dict = json.load(f)\n",
    "\n",
    "with open(\"./data_gen_output/sarc_vision_only_pred.json\", 'r') as f:\n",
    "    vision_label_dict = json.load(f)\n",
    "\n",
    "\n",
    "print(len(text_label_dict))\n",
    "print(list(text_label_dict.keys())[:5])\n",
    "print(len(vision_label_dict))\n",
    "print(list(vision_label_dict.keys())[:5])"
   ]
  },
  {
   "cell_type": "code",
   "execution_count": null,
   "metadata": {},
   "outputs": [],
   "source": [
    "import random\n",
    "import json\n",
    "\n",
    "with open(\"./data_gen_output/sarc_vision_text_pred.json\", 'r') as f:\n",
    "    vision_text_label_dict = json.load(f)\n",
    "\n",
    "with open(\"./data_raw/sarc_dataset_train.json\") as f:\n",
    "    dataset = json.load(f)\n",
    "\n",
    "groundtruth_label_dict = {}\n",
    "\n",
    "for key, data in dataset.items():\n",
    "    groundtruth_label_dict[key] = {'pred': data['label']}\n",
    "\n",
    "print(len(groundtruth_label_dict))\n",
    "print(len(vision_text_label_dict))"
   ]
  },
  {
   "cell_type": "code",
   "execution_count": null,
   "metadata": {},
   "outputs": [],
   "source": [
    "# visualize the first 5 examples\n",
    "count = 0\n",
    "for id, data in dataset.items():\n",
    "    str_id = str(id)\n",
    "    try:\n",
    "        gth_label = groundtruth_label_dict[str_id]['pred']\n",
    "        text_label = text_label_dict[str_id]['pred']\n",
    "        vision_label = vision_label_dict[str_id]['pred']\n",
    "        if gth_label == 1 and text_label == 1 and vision_label == 1:\n",
    "            visualize(\n",
    "                \"data_raw/images\", \n",
    "                data[\"image_id\"], \n",
    "                data[\"text\"], \n",
    "                gth_label,\n",
    "                gth_label,\n",
    "                text_label,\n",
    "                vision_label\n",
    "            )\n",
    "            count += 1\n",
    "            if count == 100:\n",
    "                break\n",
    "    except:\n",
    "        continue"
   ]
  },
  {
   "cell_type": "code",
   "execution_count": null,
   "metadata": {},
   "outputs": [],
   "source": []
  },
  {
   "cell_type": "code",
   "execution_count": null,
   "metadata": {},
   "outputs": [],
   "source": []
  }
 ],
 "metadata": {
  "kernelspec": {
   "display_name": "albef",
   "language": "python",
   "name": "python3"
  },
  "language_info": {
   "codemirror_mode": {
    "name": "ipython",
    "version": 3
   },
   "file_extension": ".py",
   "mimetype": "text/x-python",
   "name": "python",
   "nbconvert_exporter": "python",
   "pygments_lexer": "ipython3",
   "version": "3.11.8"
  }
 },
 "nbformat": 4,
 "nbformat_minor": 2
}
