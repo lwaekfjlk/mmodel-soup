{
 "cells": [
  {
   "cell_type": "code",
   "execution_count": 5,
   "metadata": {},
   "outputs": [
    {
     "name": "stdout",
     "output_type": "stream",
     "text": [
      "1064\n",
      "6384\n"
     ]
    }
   ],
   "source": [
    "import json\n",
    "with open('expert_albef/irfl_U_logits.jsonl') as f:\n",
    "    data = [json.loads(line) for line in f]\n",
    "\n",
    "id_to_label = {d['image_id']: d['target'] for d in data}\n",
    "print(len(id_to_label))\n",
    "print(len(data))"
   ]
  },
  {
   "cell_type": "code",
   "execution_count": 6,
   "metadata": {},
   "outputs": [],
   "source": [
    "with open(\"expert_blip2/AS_yesno_logits.jsonl\", 'r') as f:\n",
    "    data = [json.loads(line) for line in f]\n",
    "\n",
    "preds, targets = [], []\n",
    "for d in data:\n",
    "    pred = 1 if d['logits'][0] > d['logits'][1] else 0\n",
    "    target = id_to_label[d['image_id']]\n",
    "    preds.append(pred)\n",
    "    targets.append(target)"
   ]
  },
  {
   "cell_type": "code",
   "execution_count": 9,
   "metadata": {},
   "outputs": [
    {
     "name": "stdout",
     "output_type": "stream",
     "text": [
      "0.3186\n",
      "0.4130\n",
      "0.2833\n",
      "0.7612\n"
     ]
    }
   ],
   "source": [
    "from sklearn.metrics import accuracy_score, f1_score, precision_score, recall_score\n",
    "accuracy = accuracy_score(targets, preds)\n",
    "f1 = f1_score(targets, preds)\n",
    "precision = precision_score(targets, preds)\n",
    "recall = recall_score(targets, preds)\n",
    "print(f'{accuracy:.4f}')\n",
    "print(f'{f1:.4f}')\n",
    "print(f'{precision:.4f}')\n",
    "print(f'{recall:.4f}')"
   ]
  }
 ],
 "metadata": {
  "kernelspec": {
   "display_name": "Python 3",
   "language": "python",
   "name": "python3"
  },
  "language_info": {
   "codemirror_mode": {
    "name": "ipython",
    "version": 3
   },
   "file_extension": ".py",
   "mimetype": "text/x-python",
   "name": "python",
   "nbconvert_exporter": "python",
   "pygments_lexer": "ipython3",
   "version": "3.12.3"
  }
 },
 "nbformat": 4,
 "nbformat_minor": 2
}
