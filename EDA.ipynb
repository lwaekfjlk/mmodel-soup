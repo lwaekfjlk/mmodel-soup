{
 "cells": [
  {
   "cell_type": "code",
   "execution_count": 2,
   "metadata": {},
   "outputs": [],
   "source": [
    "import json\n",
    "with open(\"sarc_data/data_raw/sarc_dataset_train.json\", \"r\") as f:\n",
    "    sarc_dataset_train = json.load(f)\n",
    "with open(\"sarc_data/data_raw/sarc_dataset_val.json\", \"r\") as f:\n",
    "    sarc_dataset_val = json.load(f)\n",
    "with open(\"sarc_data/data_raw/sarc_dataset_test.json\", \"r\") as f:\n",
    "    sarc_dataset_test = json.load(f)\n",
    "with open(\"sarc_data/data_gen_output/sarc_image_description.json\", \"r\") as f:\n",
    "    sarc_image_description = json.load(f)\n",
    "with open(\"sarc_data/data_gen_output/sarc_text_only_pred.json\", \"r\") as f:\n",
    "    sarc_text_only_pred = json.load(f)\n",
    "with open(\"sarc_data/data_gen_output/sarc_vision_only_pred.json\", \"r\") as f:\n",
    "    sarc_image_only_pred = json.load(f)"
   ]
  },
  {
   "cell_type": "code",
   "execution_count": 3,
   "metadata": {},
   "outputs": [
    {
     "name": "stdout",
     "output_type": "stream",
     "text": [
      "sarc_dataset_train 19816\n",
      "sarc_dataset_val 2410\n",
      "sarc_dataset_test 2409\n",
      "Total sarc_dataset 24635\n",
      "sarc_image_description 24635\n",
      "sarc_text_only_pred 19816\n",
      "sarc_image_only_pred 24635\n"
     ]
    }
   ],
   "source": [
    "print(\"sarc_dataset_train\", len(sarc_dataset_train))\n",
    "print(\"sarc_dataset_val\", len(sarc_dataset_val))\n",
    "print(\"sarc_dataset_test\", len(sarc_dataset_test))\n",
    "print(\"Total sarc_dataset\", len(sarc_dataset_train) + len(sarc_dataset_val) + len(sarc_dataset_test))\n",
    "print(\"sarc_image_description\", len(sarc_image_description))\n",
    "print(\"sarc_text_only_pred\", len(sarc_text_only_pred))\n",
    "print(\"sarc_image_only_pred\", len(sarc_image_only_pred))"
   ]
  },
  {
   "cell_type": "code",
   "execution_count": 7,
   "metadata": {},
   "outputs": [],
   "source": [
    "with open(\"nycartoon_data/data_raw/nycartoon_dataset_train.json\", \"r\") as f:\n",
    "    nycartoon_dataset_train = json.load(f)\n",
    "with open(\"nycartoon_data/data_raw/nycartoon_dataset_validation.json\", \"r\") as f:\n",
    "    nycartoon_dataset_val = json.load(f)\n",
    "with open(\"nycartoon_data/data_raw/nycartoon_dataset_test.json\", \"r\") as f:\n",
    "    nycartoon_dataset_test = json.load(f)\n",
    "with open(\"nycartoon_data/data_gen_output/nycartoon_image_description.json\", \"r\") as f:\n",
    "    nycartoon_image_description = json.load(f)\n",
    "with open(\"nycartoon_data/data_gen_output/nycartoon_pred.json\", \"r\") as f:\n",
    "    nycartoon_pred = json.load(f)"
   ]
  },
  {
   "cell_type": "code",
   "execution_count": 8,
   "metadata": {},
   "outputs": [
    {
     "name": "stdout",
     "output_type": "stream",
     "text": [
      "nycartoon_dataset_train 48954\n",
      "nycartoon_dataset_val 2653\n",
      "nycartoon_dataset_test 2640\n",
      "Total nycartoon_dataset 54247\n",
      "nycartoon_image_description 10851\n",
      "nycartoon_pred 9792\n"
     ]
    }
   ],
   "source": [
    "print(\"nycartoon_dataset_train\", len(nycartoon_dataset_train))\n",
    "print(\"nycartoon_dataset_val\", len(nycartoon_dataset_val))\n",
    "print(\"nycartoon_dataset_test\", len(nycartoon_dataset_test))\n",
    "print(\"Total nycartoon_dataset\", len(nycartoon_dataset_train) + len(nycartoon_dataset_val) + len(nycartoon_dataset_test))\n",
    "print(\"nycartoon_image_description\", len(nycartoon_image_description))\n",
    "print(\"nycartoon_pred\", len(nycartoon_pred))"
   ]
  }
 ],
 "metadata": {
  "kernelspec": {
   "display_name": "base",
   "language": "python",
   "name": "python3"
  },
  "language_info": {
   "codemirror_mode": {
    "name": "ipython",
    "version": 3
   },
   "file_extension": ".py",
   "mimetype": "text/x-python",
   "name": "python",
   "nbconvert_exporter": "python",
   "pygments_lexer": "ipython3",
   "version": "3.11.5"
  }
 },
 "nbformat": 4,
 "nbformat_minor": 2
}
